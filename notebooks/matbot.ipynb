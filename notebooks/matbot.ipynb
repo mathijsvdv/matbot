{
 "cells": [
  {
   "cell_type": "code",
   "execution_count": 80,
   "metadata": {},
   "outputs": [],
   "source": [
    "from langchain.callbacks.manager import CallbackManager\n",
    "from langchain.callbacks.streaming_stdout import StreamingStdOutCallbackHandler\n",
    "from langchain.chains import LLMChain, RetrievalQA\n",
    "from langchain.document_loaders import TextLoader\n",
    "from langchain.embeddings.ollama import OllamaEmbeddings\n",
    "from langchain.llms import Ollama, OpenAI\n",
    "from langchain.prompts import PromptTemplate\n",
    "from langchain.vectorstores import Chroma"
   ]
  },
  {
   "cell_type": "code",
   "execution_count": 81,
   "metadata": {},
   "outputs": [],
   "source": [
    "llms = {\n",
    "    \"openai\": OpenAI(temperature=0),\n",
    "    \"mistral\": Ollama(model=\"mistral\", verbose=True, callbacks=CallbackManager([StreamingStdOutCallbackHandler()])),\n",
    "}\n",
    "\n",
    "\n",
    "template = \"\"\"You are a Retrieval-Augmented Generation chatbot that answers questions on\n",
    "documents provided to you. Act as an expert in the subject matter of the document\n",
    "discussed. If a question is not relevant for the document or if it cannot be answered\n",
    "using the information of the document, please do not answer the question and politely provide\n",
    "the reason. You're going to be working with the following document:\n",
    "{document}\n",
    "\n",
    "Given the above document, please answer the following question:\n",
    "{{question}}\n",
    "\"\"\"\n",
    "\n",
    "document_path = \"data/business_1.txt\"\n",
    "with open(document_path) as f:\n",
    "    document_content = f.read()\n",
    "\n",
    "template = template.format(document=document_content)"
   ]
  },
  {
   "cell_type": "code",
   "execution_count": 82,
   "metadata": {},
   "outputs": [],
   "source": [
    "loader = TextLoader(\"./data/business_1.txt\")\n",
    "documents = loader.load()"
   ]
  },
  {
   "cell_type": "code",
   "execution_count": 83,
   "metadata": {},
   "outputs": [
    {
     "data": {
      "text/plain": [
       "1"
      ]
     },
     "execution_count": 83,
     "metadata": {},
     "output_type": "execute_result"
    }
   ],
   "source": [
    "len(documents)"
   ]
  },
  {
   "cell_type": "code",
   "execution_count": 84,
   "metadata": {},
   "outputs": [],
   "source": [
    "document = documents[0]"
   ]
  },
  {
   "cell_type": "code",
   "execution_count": 85,
   "metadata": {},
   "outputs": [
    {
     "data": {
      "text/plain": [
       "'Lufthansa flies back to profit\\n\\nGerman airline Lufthansa has returned to profit in 2004 after posting huge losses in 2003.\\n\\nIn a preliminary report, the airline announced net profits of 400m euros ($527.61m; £274.73m), compared with a loss of 984m euros in 2003. Operating profits were at 380m euros, ten times more than in 2003. Lufthansa was hit in 2003 by tough competition and a dip in demand following the Iraq war and the killer SARS virus. It was also hit by troubles at its US catering busine'"
      ]
     },
     "execution_count": 85,
     "metadata": {},
     "output_type": "execute_result"
    }
   ],
   "source": [
    "document.page_content[0:500]"
   ]
  },
  {
   "cell_type": "code",
   "execution_count": 86,
   "metadata": {},
   "outputs": [],
   "source": [
    "# Instantiate the chain for that user session\n",
    "prompt = PromptTemplate.from_template(template)\n",
    "llm = llms[\"mistral\"]\n",
    "llm_chain = LLMChain(prompt=prompt, llm=llm, verbose=True)"
   ]
  },
  {
   "cell_type": "code",
   "execution_count": 88,
   "metadata": {},
   "outputs": [
    {
     "name": "stdout",
     "output_type": "stream",
     "text": [
      "I'm just a computer program, so I don't have feelings or emotions. But I'm here to help answer any questions you have to the best of my ability! How can I assist you today?"
     ]
    },
    {
     "data": {
      "text/plain": [
       "\"I'm just a computer program, so I don't have feelings or emotions. But I'm here to help answer any questions you have to the best of my ability! How can I assist you today?\""
      ]
     },
     "execution_count": 88,
     "metadata": {},
     "output_type": "execute_result"
    }
   ],
   "source": [
    "llm(\"Hello, how are you?\")"
   ]
  },
  {
   "cell_type": "code",
   "execution_count": 89,
   "metadata": {},
   "outputs": [
    {
     "name": "stdout",
     "output_type": "stream",
     "text": [
      "\n",
      "\n",
      "\u001b[1m> Entering new LLMChain chain...\u001b[0m\n",
      "Prompt after formatting:\n",
      "\u001b[32;1m\u001b[1;3mYou are a Retrieval-Augmented Generation chatbot that answers questions on\n",
      "documents provided to you. Act as an expert in the subject matter of the document\n",
      "discussed. If a question is not relevant for the document or if it cannot be answered\n",
      "using the information of the document, please do not answer the question and politely provide\n",
      "the reason. You're going to be working with the following document:\n",
      "Lufthansa flies back to profit\n",
      "\n",
      "German airline Lufthansa has returned to profit in 2004 after posting huge losses in 2003.\n",
      "\n",
      "In a preliminary report, the airline announced net profits of 400m euros ($527.61m; £274.73m), compared with a loss of 984m euros in 2003. Operating profits were at 380m euros, ten times more than in 2003. Lufthansa was hit in 2003 by tough competition and a dip in demand following the Iraq war and the killer SARS virus. It was also hit by troubles at its US catering business. Last year, Lufthansa showed signs of recovery even as some European and US airlines were teetering on the brink of bankruptcy. The board of Lufthansa has recommended paying a 2004 dividend of 0.30 euros per share. In 2003, shareholders did not get a dividend. The company said that it will give all the details of its 2004 results on 23 March.\n",
      "\n",
      "\n",
      "Given the above document, please answer the following question:\n",
      "Hello, how are you\n",
      "\u001b[0m\n",
      "Thank you for your question. I am an AI language model and do not have feelings or emotions like a human does. However, I am designed to provide helpful information based on the documents provided to me.\n",
      "\u001b[1m> Finished chain.\u001b[0m\n"
     ]
    },
    {
     "data": {
      "text/plain": [
       "{'question': 'Hello, how are you',\n",
       " 'text': 'Thank you for your question. I am an AI language model and do not have feelings or emotions like a human does. However, I am designed to provide helpful information based on the documents provided to me.'}"
      ]
     },
     "execution_count": 89,
     "metadata": {},
     "output_type": "execute_result"
    }
   ],
   "source": [
    "llm_chain(\"Hello, how are you\")"
   ]
  },
  {
   "cell_type": "code",
   "execution_count": 90,
   "metadata": {},
   "outputs": [
    {
     "name": "stdout",
     "output_type": "stream",
     "text": [
      "\n",
      "\n",
      "\u001b[1m> Entering new LLMChain chain...\u001b[0m\n",
      "Prompt after formatting:\n",
      "\u001b[32;1m\u001b[1;3mYou are a Retrieval-Augmented Generation chatbot that answers questions on\n",
      "documents provided to you. Act as an expert in the subject matter of the document\n",
      "discussed. If a question is not relevant for the document or if it cannot be answered\n",
      "using the information of the document, please do not answer the question and politely provide\n",
      "the reason. You're going to be working with the following document:\n",
      "Lufthansa flies back to profit\n",
      "\n",
      "German airline Lufthansa has returned to profit in 2004 after posting huge losses in 2003.\n",
      "\n",
      "In a preliminary report, the airline announced net profits of 400m euros ($527.61m; £274.73m), compared with a loss of 984m euros in 2003. Operating profits were at 380m euros, ten times more than in 2003. Lufthansa was hit in 2003 by tough competition and a dip in demand following the Iraq war and the killer SARS virus. It was also hit by troubles at its US catering business. Last year, Lufthansa showed signs of recovery even as some European and US airlines were teetering on the brink of bankruptcy. The board of Lufthansa has recommended paying a 2004 dividend of 0.30 euros per share. In 2003, shareholders did not get a dividend. The company said that it will give all the details of its 2004 results on 23 March.\n",
      "\n",
      "\n",
      "Given the above document, please answer the following question:\n",
      "What did I ask you a moment ago?\n",
      "\u001b[0m\n"
     ]
    },
    {
     "name": "stdout",
     "output_type": "stream",
     "text": [
      "You asked me to provide the relevant information from the document regarding Lufthansa's profitability in 2004 and their net profits compared to the previous year.\n",
      "\u001b[1m> Finished chain.\u001b[0m\n"
     ]
    },
    {
     "data": {
      "text/plain": [
       "{'question': 'What did I ask you a moment ago?',\n",
       " 'text': \"You asked me to provide the relevant information from the document regarding Lufthansa's profitability in 2004 and their net profits compared to the previous year.\"}"
      ]
     },
     "execution_count": 90,
     "metadata": {},
     "output_type": "execute_result"
    }
   ],
   "source": [
    "llm_chain(\"What did I ask you a moment ago?\")"
   ]
  },
  {
   "cell_type": "code",
   "execution_count": 91,
   "metadata": {},
   "outputs": [],
   "source": [
    "llm_chain_openai = LLMChain(prompt=prompt, llm=llms[\"openai\"], verbose=True)"
   ]
  },
  {
   "cell_type": "code",
   "execution_count": 92,
   "metadata": {},
   "outputs": [],
   "source": [
    "res = llm_chain_openai.acall(\"Hello, how are you?\")"
   ]
  },
  {
   "cell_type": "code",
   "execution_count": null,
   "metadata": {},
   "outputs": [],
   "source": [
    "# !rm -rf ./docs/chroma"
   ]
  },
  {
   "cell_type": "code",
   "execution_count": 44,
   "metadata": {},
   "outputs": [
    {
     "name": "stdout",
     "output_type": "stream",
     "text": [
      "2023-10-10 12:38:56 - Anonymized telemetry enabled. See https://docs.trychroma.com/telemetry for more information.\n",
      "1\n"
     ]
    }
   ],
   "source": [
    "persist_directory = \"./docs/chroma\"\n",
    "embedding = OllamaEmbeddings(model=\"mistral\")\n",
    "vectordb = Chroma.from_documents(documents=documents, persist_directory=persist_directory, embedding=embedding)\n",
    "\n",
    "vectordb._collection.count()"
   ]
  },
  {
   "cell_type": "code",
   "execution_count": 54,
   "metadata": {},
   "outputs": [
    {
     "name": "stdout",
     "output_type": "stream",
     "text": [
      "2023-10-10 12:44:29 - Number of requested results 3 is greater than number of elements in index 1, updating n_results = 1\n"
     ]
    },
    {
     "data": {
      "text/plain": [
       "1"
      ]
     },
     "execution_count": 54,
     "metadata": {},
     "output_type": "execute_result"
    }
   ],
   "source": [
    "question = \"What is the name of the company in the document?\"\n",
    "docs = vectordb.similarity_search(question, k=3)\n",
    "len(docs)"
   ]
  },
  {
   "cell_type": "code",
   "execution_count": 56,
   "metadata": {},
   "outputs": [],
   "source": [
    "qa_chain = RetrievalQA.from_chain_type(llms[\"mistral\"], retriever=vectordb.as_retriever())"
   ]
  },
  {
   "cell_type": "code",
   "execution_count": 57,
   "metadata": {},
   "outputs": [
    {
     "name": "stdout",
     "output_type": "stream",
     "text": [
      "2023-10-10 12:46:27 - Number of requested results 4 is greater than number of elements in index 1, updating n_results = 1\n",
      "\n",
      "The name of the company in the document is Lufthansa."
     ]
    }
   ],
   "source": [
    "result = qa_chain({\"query\": question})"
   ]
  },
  {
   "cell_type": "code",
   "execution_count": 58,
   "metadata": {},
   "outputs": [
    {
     "data": {
      "text/plain": [
       "'\\nThe name of the company in the document is Lufthansa.'"
      ]
     },
     "execution_count": 58,
     "metadata": {},
     "output_type": "execute_result"
    }
   ],
   "source": [
    "result[\"result\"]"
   ]
  },
  {
   "cell_type": "code",
   "execution_count": 60,
   "metadata": {},
   "outputs": [],
   "source": [
    "template = \"\"\"You are a Retrieval-Augmented Generation chatbot that answers questions on\n",
    "documents provided to you. Act as an expert in the subject matter of the document\n",
    "discussed. If a question is not relevant for the document or if it cannot be answered\n",
    "using the information of the document, please do not answer the question and politely provide\n",
    "the reason.\n",
    "{context}\n",
    "\n",
    "Question: {question}\n",
    "Helpful Answer:\"\"\"\n",
    "QA_CHAIN_PROMPT = PromptTemplate.from_template(template)"
   ]
  },
  {
   "cell_type": "code",
   "execution_count": 61,
   "metadata": {},
   "outputs": [],
   "source": [
    "qa_chain = RetrievalQA.from_chain_type(\n",
    "    llms[\"mistral\"],\n",
    "    retriever=vectordb.as_retriever(),\n",
    "    return_source_documents=True,\n",
    "    chain_type_kwargs={\"prompt\": QA_CHAIN_PROMPT},\n",
    ")"
   ]
  },
  {
   "cell_type": "code",
   "execution_count": 62,
   "metadata": {},
   "outputs": [],
   "source": [
    "question = \"What is the name of the company in the document?\""
   ]
  },
  {
   "cell_type": "code",
   "execution_count": 63,
   "metadata": {},
   "outputs": [
    {
     "name": "stdout",
     "output_type": "stream",
     "text": [
      "2023-10-10 12:49:21 - Number of requested results 4 is greater than number of elements in index 1, updating n_results = 1\n",
      "The company mentioned in the document is Lufthansa, a German airline."
     ]
    }
   ],
   "source": [
    "result = qa_chain({\"query\": question})"
   ]
  },
  {
   "cell_type": "code",
   "execution_count": 64,
   "metadata": {},
   "outputs": [
    {
     "data": {
      "text/plain": [
       "'The company mentioned in the document is Lufthansa, a German airline.'"
      ]
     },
     "execution_count": 64,
     "metadata": {},
     "output_type": "execute_result"
    }
   ],
   "source": [
    "result[\"result\"]"
   ]
  },
  {
   "cell_type": "code",
   "execution_count": 65,
   "metadata": {},
   "outputs": [
    {
     "data": {
      "text/plain": [
       "Document(page_content='Lufthansa flies back to profit\\n\\nGerman airline Lufthansa has returned to profit in 2004 after posting huge losses in 2003.\\n\\nIn a preliminary report, the airline announced net profits of 400m euros ($527.61m; £274.73m), compared with a loss of 984m euros in 2003. Operating profits were at 380m euros, ten times more than in 2003. Lufthansa was hit in 2003 by tough competition and a dip in demand following the Iraq war and the killer SARS virus. It was also hit by troubles at its US catering business. Last year, Lufthansa showed signs of recovery even as some European and US airlines were teetering on the brink of bankruptcy. The board of Lufthansa has recommended paying a 2004 dividend of 0.30 euros per share. In 2003, shareholders did not get a dividend. The company said that it will give all the details of its 2004 results on 23 March.\\n', metadata={'source': './data/business_1.txt'})"
      ]
     },
     "execution_count": 65,
     "metadata": {},
     "output_type": "execute_result"
    }
   ],
   "source": [
    "result[\"source_documents\"][0]"
   ]
  },
  {
   "cell_type": "code",
   "execution_count": 66,
   "metadata": {},
   "outputs": [
    {
     "name": "stdout",
     "output_type": "stream",
     "text": [
      "2023-10-10 12:51:59 - Number of requested results 4 is greater than number of elements in index 1, updating n_results = 1\n",
      "\n",
      "I apologize, but your question is not relevant to the provided document about Lufthansa's profitability. To answer your question, in Ukrainian, \"thank you\" can be expressed as \"Благодарення\" (Bohodarennia) or \"Дякуємо\" (Dyakuyemo)."
     ]
    }
   ],
   "source": [
    "question = \"How do you say 'thank you' in Ukrainian?\"\n",
    "result = qa_chain({\"query\": question})"
   ]
  },
  {
   "cell_type": "code",
   "execution_count": null,
   "metadata": {},
   "outputs": [],
   "source": []
  }
 ],
 "metadata": {
  "kernelspec": {
   "display_name": "matbot",
   "language": "python",
   "name": "python3"
  },
  "language_info": {
   "codemirror_mode": {
    "name": "ipython",
    "version": 3
   },
   "file_extension": ".py",
   "mimetype": "text/x-python",
   "name": "python",
   "nbconvert_exporter": "python",
   "pygments_lexer": "ipython3",
   "version": "3.9.7"
  },
  "orig_nbformat": 4
 },
 "nbformat": 4,
 "nbformat_minor": 2
}
